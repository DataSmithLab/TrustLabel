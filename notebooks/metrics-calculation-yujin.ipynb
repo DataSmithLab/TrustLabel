{
 "cells": [
  {
   "cell_type": "code",
   "execution_count": null,
   "id": "aa08d6ac",
   "metadata": {},
   "outputs": [],
   "source": [
    "# 1. Star\n",
    "# 2. Folk\n",
    "# 3. Watching\n",
    "# 4. Commits\n",
    "# 5. Issue\n",
    "# 6. PL \n",
    "# 7. Pull Request\n",
    "# 8. Actions \n",
    "# 9. Docs \n",
    "# 10. Contributor\n",
    "# 11. Code"
   ]
  },
  {
   "cell_type": "code",
   "execution_count": 8,
   "id": "06b71672",
   "metadata": {},
   "outputs": [],
   "source": [
    "import datetime\n",
    "import pandas as pd\n",
    "import os\n",
    "import json\n",
    "from collections import defaultdict"
   ]
  },
  {
   "cell_type": "code",
   "execution_count": null,
   "id": "ada30918",
   "metadata": {},
   "outputs": [],
   "source": [
    "# the metrics calculated will be saved in '../metrics.csv'"
   ]
  },
  {
   "cell_type": "code",
   "execution_count": 9,
   "id": "3b718146",
   "metadata": {},
   "outputs": [],
   "source": [
    "repos_data_path = \"/Users/zhangyujin/Desktop/repos-data\"\n",
    "metrics_path = \"../metrics.csv\"\n",
    "metrics = pd.read_csv(metrics_path)"
   ]
  },
  {
   "cell_type": "code",
   "execution_count": null,
   "id": "edee9e30",
   "metadata": {},
   "outputs": [],
   "source": [
    "# 01 repo_size"
   ]
  },
  {
   "cell_type": "code",
   "execution_count": 55,
   "id": "d715f2d4",
   "metadata": {},
   "outputs": [],
   "source": [
    "metrics['stars'] = None\n",
    "metrics['forks'] = None\n",
    "metrics['open_issues'] = None\n",
    "for index, row in metrics.iterrows():\n",
    "    owner = row['owner']\n",
    "    repo = row['repo']\n",
    "    repo_path = f\"{repos_data_path}/{owner}_{repo}\"\n",
    "    if os.path.exists(repo_path):\n",
    "        repo_info_path = f\"{repos_data_path}/{owner}_{repo}/repo.json\"\n",
    "        if os.path.exists(repo_info_path):\n",
    "            with open(repo_info_path, 'r') as f:\n",
    "                repo_info = json.load(f)\n",
    "            stars = repo_info.get('stargazers_count', 0)\n",
    "            forks = repo_info.get('forks_count', 0)\n",
    "            open_issues = repo_info.get('open_issues', 0)\n",
    "            metrics.at[index, 'stars'] = f\"{stars:d}\"\n",
    "            metrics.at[index, 'forks'] = f\"{forks:d}\"\n",
    "            metrics.at[index, 'open_issues'] = f\"{open_issues:d}\""
   ]
  },
  {
   "cell_type": "code",
   "execution_count": 56,
   "id": "4d2d20e8",
   "metadata": {},
   "outputs": [],
   "source": [
    "metrics.to_csv(metrics_path, index=False)"
   ]
  },
  {
   "cell_type": "code",
   "execution_count": null,
   "id": "a6408ef5",
   "metadata": {},
   "outputs": [],
   "source": [
    "# 02 longitudinal(Recent 500 issues/pulls/commits)"
   ]
  },
  {
   "cell_type": "code",
   "execution_count": 51,
   "id": "9412ccf2",
   "metadata": {},
   "outputs": [],
   "source": [
    "metrics['issue_closed_rate'] = None\n",
    "metrics['issue_time_to_close'] = None\n",
    "metrics['issue_time_to_response'] = None\n",
    "metrics['issue_monthly'] = None\n",
    "metrics['issue_participants'] = None\n",
    "metrics['issue_per_participants']= None"
   ]
  },
  {
   "cell_type": "code",
   "execution_count": 52,
   "id": "28ac6559",
   "metadata": {},
   "outputs": [],
   "source": [
    "for index, row in metrics.iterrows():\n",
    "    \n",
    "    owner = row['owner']\n",
    "    repo = row['repo']\n",
    "    \n",
    "    issues_path = f\"{repos_data_path}/{owner}_{repo}/issues.json\"\n",
    "    \n",
    "    if os.path.exists(issues_path):\n",
    "        closed_issues_count = 0\n",
    "        labeled_issues_count = 0\n",
    "        commented_issues_count = 0\n",
    "        total_comments = 0\n",
    "        total_time_to_comment = 0\n",
    "        total_time_to_close = 0\n",
    "        monthly_issues_count = defaultdict(int)\n",
    "        participants = set()\n",
    "        issues_count = 0\n",
    "        \n",
    "        with open(issues_path, 'r') as f:\n",
    "            issues = json.load(f)\n",
    "            \n",
    "        for issue in issues[:500]:\n",
    "            issues_count += 1\n",
    "            labeled_issues_count += 1 if issue['labels'] else 0\n",
    "            created_at = datetime.datetime.strptime(issue['created_at'], '%Y-%m-%dT%H:%M:%SZ')\n",
    "            monthly_issues_count[(created_at.year, created_at.month)] += 1\n",
    "\n",
    "            if issue['state'] == 'closed':\n",
    "                closed_issues_count += 1\n",
    "                closed_at = datetime.datetime.strptime(issue['closed_at'], '%Y-%m-%dT%H:%M:%SZ')\n",
    "                total_time_to_close += (closed_at - created_at).total_seconds()\n",
    "\n",
    "            comments_path = f\"{repos_data_path}/{owner}_{repo}/comments/{issue['number']}.json\"\n",
    "            \n",
    "            if os.path.exists(comments_path):\n",
    "                \n",
    "                with open(comments_path, 'r') as f:\n",
    "                    comments = json.load(f)\n",
    "                    \n",
    "                total_comments += len(comments)\n",
    "                first_comment_time = datetime.datetime.strptime(comments[0]['created_at'], '%Y-%m-%dT%H:%M:%SZ')\n",
    "                time_to_comment = (first_comment_time - created_at).total_seconds()\n",
    "                total_time_to_comment += time_to_comment\n",
    "                commented_issues_count += 1\n",
    "                \n",
    "                for comment in comments:\n",
    "                    participant = comment['user']['login']\n",
    "                    participants.add(participant)\n",
    "        \n",
    "    metrics.at[index, 'issue_closed_rate'] = f\"{(closed_issues_count / issues_count):.2f}\" if issues_count > 0 else \"N/A\"\n",
    "    metrics.at[index, 'issue_time_to_close'] = f\"{(total_time_to_close / closed_issues_count / (24 * 3600)):.1f}\" if closed_issues_count > 0 else \"N/A\"\n",
    "    metrics.at[index, 'issue_time_to_response'] = f\"{(total_time_to_comment / commented_issues_count / (24 * 3600)):.1f}\" if commented_issues_count > 0 else \"N/A\"\n",
    "    metrics.at[index, 'issue_monthly'] = f\"{(sum(monthly_issues_count.values()) / len(monthly_issues_count)):.1f}\" if len(monthly_issues_count) > 0 else \"N/A\"\n",
    "    metrics.at[index, 'issue_participants'] = f\"{len(participants):d}\"\n",
    "    metrics.at[index, 'issue_per_participants'] = f\"{(len(participants) / issues_count):.1f}\" if issues_count > 0 else \"N/A\""
   ]
  },
  {
   "cell_type": "code",
   "execution_count": 10,
   "id": "c7be2d03",
   "metadata": {},
   "outputs": [],
   "source": [
    "metrics['labeled_issues'] = None"
   ]
  },
  {
   "cell_type": "code",
   "execution_count": 12,
   "id": "89c46e49",
   "metadata": {},
   "outputs": [],
   "source": [
    "for index, row in metrics.iterrows():\n",
    "    \n",
    "    owner = row['owner']\n",
    "    repo = row['repo']\n",
    "    \n",
    "    issues_path = f\"{repos_data_path}/{owner}_{repo}/issues.json\"\n",
    "    \n",
    "    if os.path.exists(issues_path):\n",
    "        labeled_issues_count = 0\n",
    "        \n",
    "        with open(issues_path, 'r') as f:\n",
    "            issues = json.load(f)\n",
    "            \n",
    "        for issue in issues[:500]:\n",
    "            labeled_issues_count += 1 if issue['labels'] else 0\n",
    "        \n",
    "    metrics.at[index, 'labeled_issues'] = f\"{labeled_issues_count:d}\""
   ]
  },
  {
   "cell_type": "code",
   "execution_count": 53,
   "id": "d5746900",
   "metadata": {},
   "outputs": [],
   "source": [
    "metrics['pulls_closed_rate'] = None\n",
    "metrics['pulls_merged_rate'] = None\n",
    "metrics['pulls_time_to_close'] = None\n",
    "metrics['pulls_time_to_response'] = None\n",
    "metrics['pulls_monthly'] = None\n",
    "metrics['pulls_participants'] = None\n",
    "metrics['pulls_per_participants'] = None"
   ]
  },
  {
   "cell_type": "code",
   "execution_count": 54,
   "id": "6fa677ff",
   "metadata": {},
   "outputs": [],
   "source": [
    "for index, row in metrics.iterrows():\n",
    "    \n",
    "    owner = row['owner']\n",
    "    repo = row['repo']\n",
    "    \n",
    "    pulls_path = f\"{repos_data_path}/{owner}_{repo}/pulls.json\"\n",
    "    \n",
    "    if os.path.exists(pulls_path):\n",
    "        pulls_count = 0\n",
    "        closed_pulls_count = 0\n",
    "        merged_pulls_count = 0\n",
    "        commented_pulls_count = 0\n",
    "        total_comments = 0\n",
    "        total_time_to_comment = 0\n",
    "        total_time_to_close = 0\n",
    "        monthly_pulls_count = defaultdict(int)\n",
    "        participants = set()\n",
    "        \n",
    "        with open(pulls_path, 'r') as f:\n",
    "            pulls = json.load(f)\n",
    "            \n",
    "        if pulls is None:\n",
    "            continue\n",
    "            \n",
    "        for pull in pulls[:500]:\n",
    "            \n",
    "            pulls_count += 1\n",
    "            \n",
    "            if pull['merged_at']:\n",
    "                merged_pulls_count += 1\n",
    "                \n",
    "            created_at = datetime.datetime.strptime(pull['created_at'], '%Y-%m-%dT%H:%M:%SZ')\n",
    "            monthly_pulls_count[(created_at.year, created_at.month)] += 1\n",
    "\n",
    "            if pull['state'] == 'closed':\n",
    "                closed_pulls_count += 1\n",
    "                closed_at = datetime.datetime.strptime(pull['closed_at'], '%Y-%m-%dT%H:%M:%SZ')\n",
    "                total_time_to_close += (closed_at - created_at).total_seconds()\n",
    "\n",
    "            comments_path = f\"{repos_data_path}/{owner}_{repo}/comments/{pull['number']}.json\"\n",
    "            \n",
    "            if os.path.exists(comments_path):\n",
    "                \n",
    "                with open(comments_path, 'r') as f:\n",
    "                    comments = json.load(f)\n",
    "                    \n",
    "                total_comments += len(comments)\n",
    "                first_comment_time = datetime.datetime.strptime(comments[0]['created_at'], '%Y-%m-%dT%H:%M:%SZ')\n",
    "                time_to_comment = (first_comment_time - created_at).total_seconds()\n",
    "                total_time_to_comment += time_to_comment\n",
    "                commented_pulls_count += 1\n",
    "                \n",
    "                for comment in comments:\n",
    "                    participant = comment['user']['login']\n",
    "                    participants.add(participant)\n",
    "        \n",
    "    metrics.at[index, 'pulls_closed_rate'] = f\"{(closed_pulls_count / pulls_count):.1f}\" if pulls_count > 0 else \"N/A\"  \n",
    "    metrics.at[index, 'pulls_merged_rate'] = f\"{(merged_pulls_count / closed_pulls_count):.1f}\" if closed_pulls_count > 0 else \"N/A\"\n",
    "    metrics.at[index, 'pulls_time_to_close'] = f\"{(total_time_to_close / closed_pulls_count / (24 * 3600)):.1f}\" if closed_pulls_count > 0 else \"N/A\"\n",
    "    metrics.at[index, 'pulls_time_to_response'] = f\"{(total_time_to_comment / commented_pulls_count / (24 * 3600)):.1f}\" if commented_pulls_count > 0 else \"N/A\"\n",
    "    metrics.at[index, 'pulls_monthly'] = f\"{(sum(monthly_pulls_count.values()) / len(monthly_pulls_count)):.1f}\" if len(monthly_pulls_count) > 0 else \"N/A\"\n",
    "    metrics.at[index, 'pulls_participants'] = f\"{len(participants):d}\"\n",
    "    metrics.at[index, 'pulls_per_participants'] = f\"{(len(participants) / pulls_count):.1f}\" if pulls_count > 0 else \"N/A\"  "
   ]
  },
  {
   "cell_type": "code",
   "execution_count": 18,
   "id": "3d6ec7d7",
   "metadata": {},
   "outputs": [],
   "source": [
    "metrics['issues_average_comments'] = None\n",
    "metrics['pulls_average_comments'] = None"
   ]
  },
  {
   "cell_type": "code",
   "execution_count": 19,
   "id": "7e671018",
   "metadata": {},
   "outputs": [],
   "source": [
    "for index, row in metrics.iterrows():\n",
    "    \n",
    "    owner = row['owner']\n",
    "    repo = row['repo']\n",
    "    \n",
    "    issues_path = f\"{repos_data_path}/{owner}_{repo}/issues.json\"\n",
    "    \n",
    "    if os.path.exists(issues_path):\n",
    "        total_comments = 0\n",
    "        \n",
    "        with open(issues_path, 'r') as f:\n",
    "            issues = json.load(f)\n",
    "            \n",
    "        for issue in issues[:500]:\n",
    "            total_comments += issue['comments']\n",
    "        \n",
    "    metrics.at[index, 'issues_average_comments'] = f\"{(total_comments / len(issues)):.1f}\" if issues else \"N/A\""
   ]
  },
  {
   "cell_type": "code",
   "execution_count": 21,
   "id": "8cf46edf",
   "metadata": {},
   "outputs": [],
   "source": [
    "for index, row in metrics.iterrows():\n",
    "    \n",
    "    owner = row['owner']\n",
    "    repo = row['repo']\n",
    "    \n",
    "    pulls_path = f\"{repos_data_path}/{owner}_{repo}/pulls2.json\"\n",
    "    \n",
    "    if os.path.exists(pulls_path):\n",
    "        total_comments = 0\n",
    "        \n",
    "        with open(pulls_path, 'r') as f:\n",
    "            pulls = json.load(f)\n",
    "            \n",
    "        for pull in pulls[:500]:\n",
    "            total_comments += pull['comments']\n",
    "        \n",
    "    metrics.at[index, 'pulls_average_comments'] = f\"{(total_comments / len(pulls)):.1f}\" if pulls else \"N/A\""
   ]
  },
  {
   "cell_type": "code",
   "execution_count": 42,
   "id": "ff585d51",
   "metadata": {},
   "outputs": [],
   "source": [
    "metrics['code_review_score'] = None\n",
    "metrics['maintained_score'] = None"
   ]
  },
  {
   "cell_type": "code",
   "execution_count": 43,
   "id": "c6b70e88",
   "metadata": {},
   "outputs": [],
   "source": [
    "for index, row in metrics.iterrows():\n",
    "    owner = row['owner']\n",
    "    repo = row['repo']\n",
    "    scorecard_path = f\"{repos_data_path}/{owner}_{repo}/scorecard.json\"\n",
    "    if os.path.exists(scorecard_path):\n",
    "        with open(scorecard_path, 'r') as f:\n",
    "            scorecard = json.load(f)\n",
    "    if scorecard and scorecard['checks']:\n",
    "        for check in scorecard['checks']:\n",
    "            if check['name'] == \"Code-Review\":\n",
    "                metrics.at[index, 'code_review_score'] = f\"{check['score']}\"\n",
    "            if check['name'] == \"Maintained\":\n",
    "                metrics.at[index, 'maintained_score'] = f\"{check['score']}\""
   ]
  },
  {
   "cell_type": "code",
   "execution_count": 48,
   "id": "5a628207",
   "metadata": {},
   "outputs": [],
   "source": [
    "metrics['vulnerabilities']= None"
   ]
  },
  {
   "cell_type": "code",
   "execution_count": 49,
   "id": "a601352e",
   "metadata": {},
   "outputs": [],
   "source": [
    "for index, row in metrics.iterrows():\n",
    "    owner = row['owner']\n",
    "    repo = row['repo']\n",
    "    scorecard_path = f\"{repos_data_path}/{owner}_{repo}/scorecard.json\"\n",
    "    if os.path.exists(scorecard_path):\n",
    "        with open(scorecard_path, 'r') as f:\n",
    "            scorecard = json.load(f)\n",
    "    if scorecard and scorecard['checks']:\n",
    "        for check in scorecard['checks']:\n",
    "            if check['name'] == \"Vulnerabilities\":\n",
    "                metrics.at[index, 'vulnerabilities'] = f\"{check['reason'].split()[0]}\""
   ]
  },
  {
   "cell_type": "code",
   "execution_count": null,
   "id": "5cadb368",
   "metadata": {},
   "outputs": [],
   "source": [
    "metrics['dependent_repositories'] = None\n",
    "metrics['dependent_packages'] = None"
   ]
  },
  {
   "cell_type": "code",
   "execution_count": null,
   "id": "7c44b77d",
   "metadata": {},
   "outputs": [],
   "source": [
    "for index, row in metrics.iterrows():\n",
    "    owner = row['owner']\n",
    "    repo = row['repo']\n",
    "    dependents_path = f\"{repos_data_path}/{owner}_{repo}/dependents.json\"\n",
    "    if os.path.exists(dependents_path):\n",
    "        with open(dependents_path, 'r') as f:\n",
    "            dependents = json.load(f)\n",
    "        metrics.at[index, 'dependent_repositories'] = f\"{dependents['repositories']}\"\n",
    "        metrics.at[index, 'dependent_packages'] = f\"{dependents['packages']}\""
   ]
  }
 ],
 "metadata": {
  "kernelspec": {
   "display_name": "Python 3 (ipykernel)",
   "language": "python",
   "name": "python3"
  },
  "language_info": {
   "codemirror_mode": {
    "name": "ipython",
    "version": 3
   },
   "file_extension": ".py",
   "mimetype": "text/x-python",
   "name": "python",
   "nbconvert_exporter": "python",
   "pygments_lexer": "ipython3",
   "version": "3.11.5"
  }
 },
 "nbformat": 4,
 "nbformat_minor": 5
}
