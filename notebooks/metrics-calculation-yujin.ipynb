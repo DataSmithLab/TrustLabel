{
 "cells": [
  {
   "cell_type": "code",
   "execution_count": null,
   "id": "aa08d6ac",
   "metadata": {},
   "outputs": [],
   "source": [
    "# 1. Star\n",
    "# 2. Folk\n",
    "# 3. Watching\n",
    "# 4. Commits\n",
    "# 5. Issue\n",
    "# 6. PL \n",
    "# 7. Pull Request\n",
    "# 8. Actions \n",
    "# 9. Docs \n",
    "# 10. Contributor\n",
    "# 11. Code"
   ]
  },
  {
   "cell_type": "code",
   "execution_count": 4,
   "id": "06b71672",
   "metadata": {},
   "outputs": [],
   "source": [
    "import datetime\n",
    "import pandas as pd\n",
    "import os\n",
    "import json\n",
    "from collections import defaultdict"
   ]
  },
  {
   "cell_type": "code",
   "execution_count": null,
   "id": "ada30918",
   "metadata": {},
   "outputs": [],
   "source": [
    "# the metrics calculated will be saved in '../metrics.csv'"
   ]
  },
  {
   "cell_type": "code",
   "execution_count": 5,
   "id": "3b718146",
   "metadata": {},
   "outputs": [],
   "source": [
    "repos_data_path = \"/Users/zhangyujin/Desktop/repos-data\"\n",
    "metrics_path = \"../metrics.csv\"\n",
    "metrics = pd.read_csv(metrics_path)"
   ]
  },
  {
   "cell_type": "code",
   "execution_count": null,
   "id": "edee9e30",
   "metadata": {},
   "outputs": [],
   "source": [
    "# 01 repo_size"
   ]
  },
  {
   "cell_type": "code",
   "execution_count": 23,
   "id": "d715f2d4",
   "metadata": {},
   "outputs": [],
   "source": [
    "metrics['stars'] = None\n",
    "metrics['forks'] = None\n",
    "for index, row in metrics.iterrows():\n",
    "    owner = row['owner']\n",
    "    repo = row['repo']\n",
    "    repo_path = f\"{repos_data_path}/{owner}_{repo}\"\n",
    "    if os.path.exists(repo_path):\n",
    "        repo_info_path = f\"{repos_data_path}/{owner}_{repo}/repo.json\"\n",
    "        if os.path.exists(repo_info_path):\n",
    "            with open(repo_info_path, 'r') as f:\n",
    "                repo_info = json.load(f)\n",
    "            stars = repo_info.get('stargazers_count', 0)\n",
    "            forks = repo_info.get('forks_count', 0)\n",
    "            metrics.at[index, 'stars'] = stars\n",
    "            metrics.at[index, 'forks'] = forks"
   ]
  },
  {
   "cell_type": "code",
   "execution_count": 24,
   "id": "4d2d20e8",
   "metadata": {},
   "outputs": [],
   "source": [
    "metrics.to_csv(metrics_path, index=False)"
   ]
  },
  {
   "cell_type": "code",
   "execution_count": null,
   "id": "477852f9",
   "metadata": {},
   "outputs": [],
   "source": [
    "# 02 longitudinal(Recent 500 issues/pulls/commits)"
   ]
  },
  {
   "cell_type": "code",
   "execution_count": 6,
   "id": "9412ccf2",
   "metadata": {},
   "outputs": [],
   "source": [
    "metrics['issue_closed_rate'] = None\n",
    "metrics['issue_time_to_close'] = None\n",
    "metrics['issue_time_to_response'] = None\n",
    "metrics['issue_monthly'] = None\n",
    "metrics['issue_participants'] = None"
   ]
  },
  {
   "cell_type": "code",
   "execution_count": 12,
   "id": "efb216c4",
   "metadata": {},
   "outputs": [],
   "source": [
    "for index, row in metrics.iterrows():\n",
    "    \n",
    "    owner = row['owner']\n",
    "    repo = row['repo']\n",
    "    \n",
    "    issues_path = f\"{repos_data_path}/{owner}_{repo}/issues.json\"\n",
    "    \n",
    "    if os.path.exists(issues_path):\n",
    "        closed_issues_count = 0\n",
    "        labeled_issues_count = 0\n",
    "        commented_issues_count = 0\n",
    "        total_comments = 0\n",
    "        total_time_to_comment = 0\n",
    "        total_time_to_close = 0\n",
    "        monthly_issues_count = defaultdict(int)\n",
    "        participants = set()\n",
    "        \n",
    "        with open(issues_path, 'r') as f:\n",
    "            issues = json.load(f)\n",
    "            \n",
    "        for issue in issues[:500]:\n",
    "\n",
    "            labeled_issues_count += 1 if issue['labels'] else 0\n",
    "            created_at = datetime.datetime.strptime(issue['created_at'], '%Y-%m-%dT%H:%M:%SZ')\n",
    "            monthly_issues_count[(created_at.year, created_at.month)] += 1\n",
    "\n",
    "            if issue['state'] == 'closed':\n",
    "                closed_issues_count += 1\n",
    "                closed_at = datetime.datetime.strptime(issue['closed_at'], '%Y-%m-%dT%H:%M:%SZ')\n",
    "                total_time_to_close += (closed_at - created_at).total_seconds()\n",
    "\n",
    "            comments_path = f\"{repos_data_path}/{owner}_{repo}/comments/{issue['number']}.json\"\n",
    "            \n",
    "            if os.path.exists(comments_path):\n",
    "                \n",
    "                with open(comments_path, 'r') as f:\n",
    "                    comments = json.load(f)\n",
    "                    \n",
    "                total_comments += len(comments)\n",
    "                first_comment_time = datetime.datetime.strptime(comments[0]['created_at'], '%Y-%m-%dT%H:%M:%SZ')\n",
    "                time_to_comment = (first_comment_time - created_at).total_seconds()\n",
    "                total_time_to_comment += time_to_comment\n",
    "                commented_issues_count += 1\n",
    "                \n",
    "                for comment in comments:\n",
    "                    participant = comment['user']['login']\n",
    "                    participants.add(participant)\n",
    "        \n",
    "    metrics.at[index, 'issue_closed_rate'] = f\"{(closed_issues_count / len(issues)):.1f}\" if issues else \"N/A\"\n",
    "    metrics.at[index, 'issue_time_to_close'] = f\"{(total_time_to_close / closed_issues_count / (24 * 3600)):.1f}\" if closed_issues_count > 0 else \"N/A\"\n",
    "    metrics.at[index, 'issue_time_to_response'] = f\"{(total_time_to_comment / commented_issues_count / (24 * 3600)):.1f}\" if commented_issues_count > 0 else \"N/A\"\n",
    "    metrics.at[index, 'issue_monthly'] = f\"{(sum(monthly_issues_count.values()) / len(monthly_issues_count)):.1f}\" if len(monthly_issues_count) > 0 else \"N/A\"\n",
    "    metrics.at[index, 'issue_participants'] = f\"{len(participants):d}\""
   ]
  },
  {
   "cell_type": "code",
   "execution_count": null,
   "id": "3fdd23d4",
   "metadata": {},
   "outputs": [],
   "source": []
  }
 ],
 "metadata": {
  "kernelspec": {
   "display_name": "Python 3 (ipykernel)",
   "language": "python",
   "name": "python3"
  },
  "language_info": {
   "codemirror_mode": {
    "name": "ipython",
    "version": 3
   },
   "file_extension": ".py",
   "mimetype": "text/x-python",
   "name": "python",
   "nbconvert_exporter": "python",
   "pygments_lexer": "ipython3",
   "version": "3.11.5"
  }
 },
 "nbformat": 4,
 "nbformat_minor": 5
}
