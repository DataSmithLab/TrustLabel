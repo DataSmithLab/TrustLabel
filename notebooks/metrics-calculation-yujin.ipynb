{
 "cells": [
  {
   "cell_type": "code",
   "execution_count": null,
   "id": "f712a327",
   "metadata": {},
   "outputs": [],
   "source": [
    "# 1. Star\n",
    "# 2. Folk\n",
    "# 3. Watching\n",
    "# 4. Commits\n",
    "# 5. Issue\n",
    "# 6. PL (Programming Language used by the OSS)\n",
    "# 7. Pull Request\n",
    "# 8. Actions (I assume that unit tests is a part of Action. Or I may)\n",
    "# 9. Docs (Readme.md, Governance.md, Open source license.md, Security.md)\n",
    "# 10. Contributor\n",
    "# 11. Code"
   ]
  },
  {
   "cell_type": "code",
   "execution_count": 15,
   "id": "4a5eaaf0",
   "metadata": {},
   "outputs": [],
   "source": [
    "import datetime\n",
    "import pandas as pd\n",
    "import os\n",
    "import json"
   ]
  },
  {
   "cell_type": "code",
   "execution_count": null,
   "id": "bb61aec2",
   "metadata": {},
   "outputs": [],
   "source": [
    "# the metrics calculated will be saved in '../metrics.csv'"
   ]
  },
  {
   "cell_type": "code",
   "execution_count": 18,
   "id": "fb34dc38",
   "metadata": {},
   "outputs": [],
   "source": [
    "repos_data_path = '/Users/zhangyujin/Desktop/repos-data'\n",
    "metrics_path = '../metrics.csv'\n",
    "metrics = pd.read_csv(metrics_path)"
   ]
  },
  {
   "cell_type": "code",
   "execution_count": null,
   "id": "b138ba26",
   "metadata": {},
   "outputs": [],
   "source": [
    "# 01 repo_size"
   ]
  },
  {
   "cell_type": "code",
   "execution_count": 23,
   "id": "e2d99451",
   "metadata": {},
   "outputs": [],
   "source": [
    "metrics['stars'] = None\n",
    "metrics['forks'] = None\n",
    "for index, row in metrics.iterrows():\n",
    "    owner = row['owner']\n",
    "    repo = row['repo']\n",
    "    repo_path = f'{repos_data_path}/{owner}_{repo}'\n",
    "    if os.path.exists(repo_path):\n",
    "        repo_info_path = f'{repos_data_path}/{owner}_{repo}/repo.json'\n",
    "        if os.path.exists(repo_info_path):\n",
    "            with open(repo_info_path, 'r') as f:\n",
    "                repo_info = json.load(f)\n",
    "            stars = repo_info.get('stargazers_count', 0)\n",
    "            forks = repo_info.get('forks_count', 0)\n",
    "            metrics.at[index, 'stars'] = stars\n",
    "            metrics.at[index, 'forks'] = forks"
   ]
  },
  {
   "cell_type": "code",
   "execution_count": 24,
   "id": "2ecbc9b7",
   "metadata": {},
   "outputs": [],
   "source": [
    "metrics.to_csv(metrics_path, index=False)"
   ]
  },
  {
   "cell_type": "code",
   "execution_count": null,
   "id": "bb4f1606",
   "metadata": {},
   "outputs": [],
   "source": []
  }
 ],
 "metadata": {
  "kernelspec": {
   "display_name": "Python 3 (ipykernel)",
   "language": "python",
   "name": "python3"
  },
  "language_info": {
   "codemirror_mode": {
    "name": "ipython",
    "version": 3
   },
   "file_extension": ".py",
   "mimetype": "text/x-python",
   "name": "python",
   "nbconvert_exporter": "python",
   "pygments_lexer": "ipython3",
   "version": "3.11.5"
  }
 },
 "nbformat": 4,
 "nbformat_minor": 5
}
