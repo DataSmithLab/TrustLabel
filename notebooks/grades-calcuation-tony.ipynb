{
 "cells": [
  {
   "cell_type": "code",
   "execution_count": 56,
   "metadata": {},
   "outputs": [],
   "source": [
    "import pandas as pd\n",
    "import matplotlib.pyplot as plt\n",
    "import numpy as np\n",
    "import os\n",
    "import re\n",
    "import json\n",
    "from collections import defaultdict\n",
    "from datetime import datetime, timezone\n",
    "from scipy import stats"
   ]
  },
  {
   "cell_type": "code",
   "execution_count": 45,
   "metadata": {},
   "outputs": [],
   "source": [
    "# roughviz_metrics_path = \"../metrics/roughViz_percentiles.csv\"\n",
    "# roughviz_metrics = pd.read_csv(roughviz_metrics_path)\n",
    "# roughviz_metrics.iloc[:, 2:] = roughviz_metrics.iloc[:, 2:].apply(pd.to_numeric)\n",
    "\n",
    "# twopasswords_metrics_path = \"../metrics/twopasswords_percentiles.csv\"\n",
    "# twopasswords_metrics = pd.read_csv(twopasswords_metrics_path)\n",
    "# twopasswords_metrics.iloc[:, 2:] = twopasswords_metrics.iloc[:, 2:].apply(pd.to_numeric)\n",
    "\n",
    "# voicelistener_metrics_path = \"../metrics/voice-listener_percentiles.csv\"\n",
    "# voicelistener_metrics = pd.read_csv(voicelistener_metrics_path)\n",
    "# voicelistener_metrics.iloc[:, 2:] = voicelistener_metrics.iloc[:, 2:].apply(pd.to_numeric)\n"
   ]
  },
  {
   "cell_type": "code",
   "execution_count": 32,
   "metadata": {},
   "outputs": [],
   "source": [
    "# Yujin's calculations for the Trustee label (MCPC)\n",
    "\n",
    "roughviz_trustee_path = \"../metrics/roughViz_prototype.csv\"\n",
    "roughviz_trustee = pd.read_csv(roughviz_trustee_path)\n",
    "roughviz_trustee.iloc[:, 2:] = roughviz_trustee.iloc[:, 2:].apply(pd.to_numeric)\n",
    "\n",
    "twopasswords_trustee_path = \"../metrics/twopasswords_prototype.csv\"\n",
    "twopasswords_trustee = pd.read_csv(twopasswords_trustee_path)\n",
    "twopasswords_trustee.iloc[:, 2:] = twopasswords_trustee.iloc[:, 2:].apply(pd.to_numeric)\n",
    "\n",
    "voicelistener_trustee_path = \"../metrics/voice-listener_prototype.csv\"\n",
    "voicelistener_trustee = pd.read_csv(voicelistener_trustee_path)\n",
    "voicelistener_trustee.iloc[:, 2:] = voicelistener_trustee.iloc[:, 2:].apply(pd.to_numeric)\n"
   ]
  },
  {
   "cell_type": "code",
   "execution_count": 43,
   "metadata": {},
   "outputs": [],
   "source": [
    "repos_trustee = {\n",
    "    \"roughViz\": roughviz_trustee,\n",
    "    \"twopasswords\": twopasswords_trustee,\n",
    "    \"voice_listener\": voicelistener_trustee,\n",
    "}"
   ]
  },
  {
   "cell_type": "code",
   "execution_count": 63,
   "metadata": {},
   "outputs": [],
   "source": [
    "# # Grades based on 20%ile\n",
    "# balanced_grades = {\n",
    "#     \"F\": [0, 19],\n",
    "#     \"D\": [20, 39],\n",
    "#     \"C\": [40, 59],\n",
    "#     \"B\": [60, 79],\n",
    "#     \"A\": [80, 100],\n",
    "# }\n",
    "\n",
    "grades_bins = [0, 200, 400, 600, 800, 1010]\n",
    "grades_labels = [\"F\", \"D\", \"C\", \"B\", \"A\"]"
   ]
  },
  {
   "cell_type": "code",
   "execution_count": 64,
   "metadata": {},
   "outputs": [],
   "source": [
    "z_grades_bins = [-100, -1.5, -0.5, 0.5, 1.5, 100]"
   ]
  },
  {
   "cell_type": "markdown",
   "metadata": {},
   "source": [
    "# Calculate Trust Component Label Metrics"
   ]
  },
  {
   "cell_type": "code",
   "execution_count": 74,
   "metadata": {},
   "outputs": [],
   "source": [
    "for repo in repos_trustee:\n",
    "    component = repos_trustee[repo].fillna(0)\n",
    "    component[\"community_activity_and_integrity\"] = component[[\"popularity\", \"code_contribution\", \"contributor_participation\", \"contributor_growth\"]].mean(axis=1)\n",
    "    component[\"maintenance_and_goodwill\"] = component[[\"issues_maintenance\", \"community_documentation\", \"code_maintenance\", \"maintainer_history\"]].mean(axis=1)\n",
    "    component[\"code_quality\"] = component[[\"dependencies_health\", \"review_coverage\", \"testing_quality\", \"project_maturity\"]].mean(axis=1)\n",
    "    component[\"component_avg\"] = component[[\"community_activity_and_integrity\", \"maintenance_and_goodwill\", \"code_quality\"]].mean(axis=1)\n",
    "    \n",
    "    component[\"component_rank\"] = component[\"component_avg\"].rank()\n",
    "    component[\"component_rank_grade\"] = pd.cut(component[\"component_rank\"], bins=grades_bins, right=False, labels=grades_labels)\n",
    "\n",
    "    component[\"trustee_rank\"] = component[\"avg_percentile\"].rank()\n",
    "    component[\"trustee_rank_grade\"] = pd.cut(component[\"trustee_rank\"], bins=grades_bins, right=False, labels=grades_labels)\n",
    "    \n",
    "    component[\"component_zscore\"] = stats.zscore(component[\"component_avg\"])\n",
    "    component[\"component_z_grade\"] = pd.cut(component[\"component_zscore\"], bins=z_grades_bins, right=False, labels=grades_labels)\n",
    "\n",
    "    component[\"trustee_zscore\"] = stats.zscore(component[\"avg_percentile\"])\n",
    "    component[\"trustee_z_grade\"] = pd.cut(component[\"trustee_zscore\"], bins=z_grades_bins, right=False, labels=grades_labels)\n",
    "\n",
    "    output_file = \"../metrics/\" + repo + \"_both_prototypes_v2.csv\"\n",
    "    component.to_csv(output_file, index=False)\n"
   ]
  },
  {
   "cell_type": "markdown",
   "metadata": {},
   "source": [
    "^the calculation for Popularity may be incorrect (avg of avg's, instead of ground-up calculation), but it should be close enough and saves some dev time - unless yujin has the code and can quickly re-calculate, this should be fine as-is"
   ]
  },
  {
   "cell_type": "code",
   "execution_count": null,
   "metadata": {},
   "outputs": [],
   "source": []
  }
 ],
 "metadata": {
  "kernelspec": {
   "display_name": "Python 3",
   "language": "python",
   "name": "python3"
  },
  "language_info": {
   "codemirror_mode": {
    "name": "ipython",
    "version": 3
   },
   "file_extension": ".py",
   "mimetype": "text/x-python",
   "name": "python",
   "nbconvert_exporter": "python",
   "pygments_lexer": "ipython3",
   "version": "3.8.10"
  }
 },
 "nbformat": 4,
 "nbformat_minor": 2
}
