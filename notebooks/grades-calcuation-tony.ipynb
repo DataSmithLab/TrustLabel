{
 "cells": [
  {
   "cell_type": "code",
   "execution_count": 1,
   "metadata": {},
   "outputs": [],
   "source": [
    "import pandas as pd\n",
    "import matplotlib.pyplot as plt\n",
    "import numpy as np\n",
    "import os\n",
    "import re\n",
    "import json\n",
    "from collections import defaultdict\n",
    "from datetime import datetime, timezone\n",
    "from scipy import stats"
   ]
  },
  {
   "cell_type": "code",
   "execution_count": 2,
   "metadata": {},
   "outputs": [],
   "source": [
    "# Yujin's calculations for the base percentile metrics\n",
    "\n",
    "roughviz_metrics_path = \"../metrics/roughViz_percentiles.csv\"\n",
    "roughviz_metrics = pd.read_csv(roughviz_metrics_path)\n",
    "roughviz_metrics.iloc[:, 2:] = roughviz_metrics.iloc[:, 2:].apply(pd.to_numeric)\n",
    "\n",
    "twopasswords_metrics_path = \"../metrics/twopasswords_percentiles.csv\"\n",
    "twopasswords_metrics = pd.read_csv(twopasswords_metrics_path)\n",
    "twopasswords_metrics.iloc[:, 2:] = twopasswords_metrics.iloc[:, 2:].apply(pd.to_numeric)\n",
    "\n",
    "voicelistener_metrics_path = \"../metrics/voice-listener_percentiles.csv\"\n",
    "voicelistener_metrics = pd.read_csv(voicelistener_metrics_path)\n",
    "voicelistener_metrics.iloc[:, 2:] = voicelistener_metrics.iloc[:, 2:].apply(pd.to_numeric)\n"
   ]
  },
  {
   "cell_type": "code",
   "execution_count": 3,
   "metadata": {},
   "outputs": [],
   "source": [
    "# Yujin's calculations for the Trustee label (MCPC)\n",
    "\n",
    "roughviz_trustee_path = \"../metrics/roughViz_prototype.csv\"\n",
    "roughviz_trustee = pd.read_csv(roughviz_trustee_path)\n",
    "roughviz_trustee.iloc[:, 2:] = roughviz_trustee.iloc[:, 2:].apply(pd.to_numeric)\n",
    "\n",
    "twopasswords_trustee_path = \"../metrics/twopasswords_prototype.csv\"\n",
    "twopasswords_trustee = pd.read_csv(twopasswords_trustee_path)\n",
    "twopasswords_trustee.iloc[:, 2:] = twopasswords_trustee.iloc[:, 2:].apply(pd.to_numeric)\n",
    "\n",
    "voicelistener_trustee_path = \"../metrics/voice-listener_prototype.csv\"\n",
    "voicelistener_trustee = pd.read_csv(voicelistener_trustee_path)\n",
    "voicelistener_trustee.iloc[:, 2:] = voicelistener_trustee.iloc[:, 2:].apply(pd.to_numeric)\n"
   ]
  },
  {
   "cell_type": "code",
   "execution_count": 4,
   "metadata": {},
   "outputs": [],
   "source": [
    "repos_trustee = {\n",
    "    \"roughViz\": roughviz_trustee,\n",
    "    \"twopasswords\": twopasswords_trustee,\n",
    "    \"voice_listener\": voicelistener_trustee,\n",
    "}\n",
    "\n",
    "repos_metrics = {\n",
    "    \"roughViz\": roughviz_metrics,\n",
    "    \"twopasswords\": twopasswords_metrics,\n",
    "    \"voice_listener\": voicelistener_metrics,\n",
    "}"
   ]
  },
  {
   "cell_type": "code",
   "execution_count": 5,
   "metadata": {},
   "outputs": [],
   "source": [
    "# # Grades based on 20%ile\n",
    "# balanced_grades = {\n",
    "#     \"F\": [0, 19],\n",
    "#     \"D\": [20, 39],\n",
    "#     \"C\": [40, 59],\n",
    "#     \"B\": [60, 79],\n",
    "#     \"A\": [80, 100],\n",
    "# }\n",
    "\n",
    "grades_bins = [0, 200, 400, 600, 800, 1010]\n",
    "grades_labels = [\"F\", \"D\", \"C\", \"B\", \"A\"]"
   ]
  },
  {
   "cell_type": "code",
   "execution_count": 6,
   "metadata": {},
   "outputs": [],
   "source": [
    "z_grades_bins = [-100, -1.5, -0.5, 0.5, 1.5, 100]"
   ]
  },
  {
   "cell_type": "markdown",
   "metadata": {},
   "source": [
    "# Calculate Trust Component Label Metrics"
   ]
  },
  {
   "cell_type": "code",
   "execution_count": 20,
   "metadata": {},
   "outputs": [],
   "source": [
    "combined_metrics = pd.DataFrame(columns=[\n",
    "    'owner',\n",
    "    'repo',\n",
    "    'maintenance',\n",
    "    'issues_maintenance',\n",
    "    'code_maintenance',\n",
    "    'community_documentation',\n",
    "    'maintainer_history',\n",
    "    'contribution',\n",
    "    'contributor_participation',\n",
    "    'code_contribution',\n",
    "    'contributor_growth',\n",
    "    'usage_popularity',\n",
    "    'stars_and_watches',\n",
    "    'forks',\n",
    "    'downstream_dependents',\n",
    "    'project_maturity',\n",
    "    'code_quality',\n",
    "    'dependencies_health',\n",
    "    'testing_quality',\n",
    "    'review_coverage',\n",
    "    'community_activity_and_integrity',\n",
    "    'trustee_avg',\n",
    "    'popularity_component',\n",
    "    'community_activity_and_integrity_component',\n",
    "    'maintenance_and_goodwill_component',\n",
    "    'code_quality_component',\n",
    "    'component_avg',\n",
    "    'component_rank',\n",
    "    'component_rank_grade',\n",
    "    'trustee_rank',\n",
    "    'trustee_rank_grade',\n",
    "    'component_zscore',\n",
    "    'component_z_grade',\n",
    "    'trustee_zscore',\n",
    "    'trustee_z_grade',\n",
    "    ]\n",
    ")\n",
    "\n",
    "for repo in repos_trustee:\n",
    "    component = repos_trustee[repo].fillna(0)\n",
    "    component.rename(columns={\n",
    "        'avg_percentile': 'trustee_avg',\n",
    "    }, inplace=True)\n",
    "\n",
    "    # re-calculate component version of popularity\n",
    "    component[\"popularity_component\"] =  repos_metrics[repo][[\"stars_and_watchers\", \"forks\", \"downstream_dependents\"]].mean(axis=1)\n",
    "\n",
    "    # calculate component top-level metrics\n",
    "    component[\"community_activity_and_integrity_component\"] = component[[\"popularity_component\", \"code_contribution\", \"contributor_participation\", \"contributor_growth\"]].mean(axis=1)\n",
    "    component[\"maintenance_and_goodwill_component\"] = component[[\"issues_maintenance\", \"community_documentation\", \"code_maintenance\", \"maintainer_history\"]].mean(axis=1)\n",
    "    component[\"code_quality_component\"] = component[[\"dependencies_health\", \"review_coverage\", \"testing_quality\", \"project_maturity\"]].mean(axis=1)\n",
    "    component[\"component_avg\"] = component[[\"community_activity_and_integrity_component\", \"maintenance_and_goodwill_component\", \"code_quality_component\"]].mean(axis=1)\n",
    "    \n",
    "    # component rank and grades based on equal 20% distribution rank\n",
    "    component[\"component_rank\"] = component[\"component_avg\"].rank()\n",
    "    component[\"component_rank_grade\"] = pd.cut(component[\"component_rank\"], bins=grades_bins, right=False, labels=grades_labels)\n",
    "    # trustee rank and grades based on equal 20% distribution rank    \n",
    "    component[\"trustee_rank\"] = component[\"trustee_avg\"].rank()\n",
    "    component[\"trustee_rank_grade\"] = pd.cut(component[\"trustee_rank\"], bins=grades_bins, right=False, labels=grades_labels)\n",
    "    \n",
    "    # component z-score and grades based on -1.5/-0.5/0.5/1.5 z-score\n",
    "    component[\"component_zscore\"] = stats.zscore(component[\"component_avg\"])\n",
    "    component[\"component_z_grade\"] = pd.cut(component[\"component_zscore\"], bins=z_grades_bins, right=False, labels=grades_labels)\n",
    "\n",
    "    # trustee z-score and grades based on -1.5/-0.5/0.5/1.5 z-score\n",
    "    component[\"trustee_zscore\"] = stats.zscore(component[\"trustee_avg\"])\n",
    "    component[\"trustee_z_grade\"] = pd.cut(component[\"trustee_zscore\"], bins=z_grades_bins, right=False, labels=grades_labels)\n",
    "\n",
    "    output_file = \"../metrics/\" + repo + \"_both_prototypes_v2.csv\"\n",
    "    component.to_csv(output_file, index=False)\n",
    "\n",
    "    combined_metrics = pd.concat([combined_metrics, component.tail(1)], ignore_index=True)\n",
    "\n",
    "# all metrics for the 3 prototype repos\n",
    "combined_metrics.to_csv(\"../metrics/prototype_metrics.csv\", index=False)\n"
   ]
  },
  {
   "cell_type": "code",
   "execution_count": null,
   "metadata": {},
   "outputs": [],
   "source": []
  }
 ],
 "metadata": {
  "kernelspec": {
   "display_name": "Python 3",
   "language": "python",
   "name": "python3"
  },
  "language_info": {
   "codemirror_mode": {
    "name": "ipython",
    "version": 3
   },
   "file_extension": ".py",
   "mimetype": "text/x-python",
   "name": "python",
   "nbconvert_exporter": "python",
   "pygments_lexer": "ipython3",
   "version": "3.8.10"
  }
 },
 "nbformat": 4,
 "nbformat_minor": 2
}
